{
 "cells": [
  {
   "cell_type": "code",
   "execution_count": 1,
   "metadata": {},
   "outputs": [],
   "source": [
    "import pickle\n",
    "import json\n",
    "import datetime\n",
    "import random\n",
    "import time\n",
    "import numpy as np\n",
    "import pandas as pd"
   ]
  },
  {
   "cell_type": "code",
   "execution_count": 3,
   "metadata": {},
   "outputs": [
    {
     "name": "stdout",
     "output_type": "stream",
     "text": [
      "/home/revant/Desktop/scraping2/bccl/backup/mongodb_backup\n"
     ]
    }
   ],
   "source": [
    "cd ../backup/mongodb_backup/\n"
   ]
  },
  {
   "cell_type": "code",
   "execution_count": 4,
   "metadata": {},
   "outputs": [
    {
     "name": "stdout",
     "output_type": "stream",
     "text": [
      "total 913532\r\n",
      "drwxrwxr-x 2 revant revant      4096 Jan 20 01:29 \u001b[0m\u001b[01;34m.\u001b[0m/\r\n",
      "drwxr-xr-x 6 revant revant      4096 Jan  5 16:24 \u001b[01;34m..\u001b[0m/\r\n",
      "-rw-rw-r-- 1 revant revant 215488704 Jan  6 17:44 daily_dispatch_summary_04-01-18_2.json\r\n",
      "-rw-rw-r-- 1 revant revant 100980713 Jan  5 16:34 daily_dispatch_summary_04-01-18.json\r\n",
      "-rw-rw-r-- 1 revant revant 257635574 Jan 20 01:17 daily_dispatch_summary_18-01-19.json\r\n",
      "-rw-r--r-- 1 revant revant 308886730 Jan  6 18:21 daily_dispatch_summary_manual_with_dates_04-01.pickle\r\n",
      "-rw-rw-r-- 1 revant revant         0 Jan  7 01:44 dispatch_against_daily_sales_04-01.json\r\n",
      "-rw-rw-r-- 1 revant revant   1208285 Jan  5 16:26 loading_schedules_04-01-18.json\r\n",
      "-rw-rw-r-- 1 revant revant   3277686 Jan 20 01:29 loading_schedules_18-01-19.json\r\n",
      "-rw-r--r-- 1 revant revant   2367006 Jan  6 18:23 loading_schedules_manual_with_dates_04-01-18.pickle\r\n",
      "-rw-r--r-- 1 revant revant     40316 Jan  9 22:51 required2.json\r\n",
      "-rw-r--r-- 1 revant revant   1063942 Jan 10 18:57 required.json\r\n",
      "-rw-r--r-- 1 revant revant  13383713 Jan  6 16:52 sales_order_data_manual_with_dates_04-01.pickle\r\n",
      "-rw-rw-r-- 1 revant revant   9342489 Jan  5 16:25 sales_order_details_04-01-18.json\r\n",
      "-rw-rw-r-- 1 revant revant  10653954 Jan  9 22:37 sales_order_details_08-01-18.json\r\n",
      "-rw-rw-r-- 1 revant revant  10849838 Jan 20 00:35 sales_order_details_18-01-19.json\r\n",
      "-rw-r--r-- 1 revant revant    230895 Jan  6 20:01 sales_order_nums.pickle\r\n"
     ]
    }
   ],
   "source": [
    "ls -al"
   ]
  },
  {
   "cell_type": "code",
   "execution_count": 13,
   "metadata": {},
   "outputs": [],
   "source": [
    "with open(\"dispatch_against_daily_sales_04-01.json\") as f:\n",
    "    a = f.readlines()"
   ]
  },
  {
   "cell_type": "code",
   "execution_count": 14,
   "metadata": {},
   "outputs": [
    {
     "data": {
      "text/plain": [
       "115101"
      ]
     },
     "execution_count": 14,
     "metadata": {},
     "output_type": "execute_result"
    }
   ],
   "source": [
    "len(a)"
   ]
  },
  {
   "cell_type": "code",
   "execution_count": 15,
   "metadata": {},
   "outputs": [],
   "source": [
    "json_data = [json.loads(i) for i in a]"
   ]
  },
  {
   "cell_type": "code",
   "execution_count": 19,
   "metadata": {
    "collapsed": true
   },
   "outputs": [
    {
     "data": {
      "text/html": [
       "<div>\n",
       "<style scoped>\n",
       "    .dataframe tbody tr th:only-of-type {\n",
       "        vertical-align: middle;\n",
       "    }\n",
       "\n",
       "    .dataframe tbody tr th {\n",
       "        vertical-align: top;\n",
       "    }\n",
       "\n",
       "    .dataframe thead th {\n",
       "        text-align: right;\n",
       "    }\n",
       "</style>\n",
       "<table border=\"1\" class=\"dataframe\">\n",
       "  <thead>\n",
       "    <tr style=\"text-align: right;\">\n",
       "      <th></th>\n",
       "      <th>Consignee Name</th>\n",
       "      <th>Grade&amp; Size(Product Description)</th>\n",
       "      <th>Lifted Qty</th>\n",
       "      <th>Lifting Date</th>\n",
       "      <th>Sales Order No</th>\n",
       "      <th>Truck No</th>\n",
       "      <th>_id</th>\n",
       "    </tr>\n",
       "  </thead>\n",
       "  <tbody>\n",
       "    <tr>\n",
       "      <th>0</th>\n",
       "      <td>NaN</td>\n",
       "      <td>NaN</td>\n",
       "      <td>NaN</td>\n",
       "      <td>NaN</td>\n",
       "      <td>19701104716</td>\n",
       "      <td>NaN</td>\n",
       "      <td>{'$oid': '5c324bc7e9a5b36032e89988'}</td>\n",
       "    </tr>\n",
       "    <tr>\n",
       "      <th>1</th>\n",
       "      <td>RAHUL COKE PRIVATE LTD</td>\n",
       "      <td>Washery-3   STM/FSA</td>\n",
       "      <td>20.39</td>\n",
       "      <td>{'$date': {'$numberLong': '1534291200000'}}</td>\n",
       "      <td>19701304782</td>\n",
       "      <td>JH10U8841</td>\n",
       "      <td>{'$oid': '5c324bc7e9a5b36032e89989'}</td>\n",
       "    </tr>\n",
       "    <tr>\n",
       "      <th>2</th>\n",
       "      <td>RAHUL COKE PRIVATE LTD</td>\n",
       "      <td>Washery-3   STM/FSA</td>\n",
       "      <td>20.38</td>\n",
       "      <td>{'$date': {'$numberLong': '1533686400000'}}</td>\n",
       "      <td>19701304782</td>\n",
       "      <td>JH10U8841</td>\n",
       "      <td>{'$oid': '5c324bc7e9a5b36032e8998a'}</td>\n",
       "    </tr>\n",
       "    <tr>\n",
       "      <th>3</th>\n",
       "      <td>O S D   COKE        PVT.LTD.</td>\n",
       "      <td>Washery-3   STM/FSA</td>\n",
       "      <td>20.02</td>\n",
       "      <td>{'$date': {'$numberLong': '1534291200000'}}</td>\n",
       "      <td>19701504830</td>\n",
       "      <td>JH02Q1835</td>\n",
       "      <td>{'$oid': '5c324bc7e9a5b36032e8998b'}</td>\n",
       "    </tr>\n",
       "    <tr>\n",
       "      <th>4</th>\n",
       "      <td>O S D   COKE        PVT.LTD.</td>\n",
       "      <td>Washery-3   STM/FSA</td>\n",
       "      <td>20.22</td>\n",
       "      <td>{'$date': {'$numberLong': '1533686400000'}}</td>\n",
       "      <td>19701504830</td>\n",
       "      <td>JH02Q1835</td>\n",
       "      <td>{'$oid': '5c324bc7e9a5b36032e8998c'}</td>\n",
       "    </tr>\n",
       "  </tbody>\n",
       "</table>\n",
       "</div>"
      ],
      "text/plain": [
       "                 Consignee Name Grade& Size(Product Description) Lifted Qty  \\\n",
       "0                           NaN                              NaN        NaN   \n",
       "1        RAHUL COKE PRIVATE LTD              Washery-3   STM/FSA      20.39   \n",
       "2        RAHUL COKE PRIVATE LTD              Washery-3   STM/FSA      20.38   \n",
       "3  O S D   COKE        PVT.LTD.              Washery-3   STM/FSA      20.02   \n",
       "4  O S D   COKE        PVT.LTD.              Washery-3   STM/FSA      20.22   \n",
       "\n",
       "                                  Lifting Date Sales Order No  \\\n",
       "0                                          NaN    19701104716   \n",
       "1  {'$date': {'$numberLong': '1534291200000'}}    19701304782   \n",
       "2  {'$date': {'$numberLong': '1533686400000'}}    19701304782   \n",
       "3  {'$date': {'$numberLong': '1534291200000'}}    19701504830   \n",
       "4  {'$date': {'$numberLong': '1533686400000'}}    19701504830   \n",
       "\n",
       "          Truck No                                   _id  \n",
       "0              NaN  {'$oid': '5c324bc7e9a5b36032e89988'}  \n",
       "1  JH10U8841        {'$oid': '5c324bc7e9a5b36032e89989'}  \n",
       "2  JH10U8841        {'$oid': '5c324bc7e9a5b36032e8998a'}  \n",
       "3  JH02Q1835        {'$oid': '5c324bc7e9a5b36032e8998b'}  \n",
       "4  JH02Q1835        {'$oid': '5c324bc7e9a5b36032e8998c'}  "
      ]
     },
     "execution_count": 19,
     "metadata": {},
     "output_type": "execute_result"
    }
   ],
   "source": [
    "df = pd.DataFrame.from_dict(json_data)\n",
    "df.head()"
   ]
  },
  {
   "cell_type": "code",
   "execution_count": 26,
   "metadata": {},
   "outputs": [],
   "source": [
    "df2 = (df.dropna()['Truck No'] + \"||\" + df.dropna()['Consignee Name']).unique()"
   ]
  },
  {
   "cell_type": "code",
   "execution_count": 28,
   "metadata": {},
   "outputs": [],
   "source": [
    "c = [i.split(\"||\")[0] for i in df2]\n",
    "d = [i.split(\"||\")[1] for i in df2]\n",
    "final_df = pd.DataFrame()\n",
    "final_df['Truck No'] = c\n",
    "final_df['Consignee Name'] = d"
   ]
  },
  {
   "cell_type": "code",
   "execution_count": 30,
   "metadata": {},
   "outputs": [],
   "source": [
    "final_df.to_excel(\"truckNos.xls\")"
   ]
  }
 ],
 "metadata": {
  "kernelspec": {
   "display_name": "Python 3",
   "language": "python",
   "name": "python3"
  },
  "language_info": {
   "codemirror_mode": {
    "name": "ipython",
    "version": 3
   },
   "file_extension": ".py",
   "mimetype": "text/x-python",
   "name": "python",
   "nbconvert_exporter": "python",
   "pygments_lexer": "ipython3",
   "version": "3.6.7"
  }
 },
 "nbformat": 4,
 "nbformat_minor": 2
}
